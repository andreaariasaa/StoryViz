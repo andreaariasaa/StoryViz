{
 "cells": [
  {
   "cell_type": "code",
   "execution_count": 1,
   "metadata": {},
   "outputs": [],
   "source": [
    "import pandas as pd"
   ]
  },
  {
   "cell_type": "code",
   "execution_count": 3,
   "metadata": {},
   "outputs": [],
   "source": [
    "# loading data into dataframes\n",
    "main_df = pd.read_csv('./main_table.csv', index_col=0)"
   ]
  },
  {
   "cell_type": "code",
   "execution_count": 4,
   "metadata": {},
   "outputs": [],
   "source": [
    "# make new dataframe of the cleaned, neat, picked data\n",
    "clean_df = pd.DataFrame()\n",
    "clean_df['household_income_feeling'] = main_df['income_satisfaction']\n",
    "clean_df['migration_want'] = main_df['mig_ext_intention']\n",
    "clean_df['planning_to_move12'] = main_df['mig_ext_plan_12months']\n",
    "clean_df['prepared_to_move'] = main_df['mig_ext_preparacion']\n",
    "clean_df['why_no_leave'] = main_df['mig_int_pref_no_plan']"
   ]
  },
  {
   "cell_type": "code",
   "execution_count": 5,
   "metadata": {},
   "outputs": [],
   "source": [
    "# export new data frame\n",
    "clean_df.to_csv('clean_data.csv')"
   ]
  }
 ],
 "metadata": {
  "interpreter": {
   "hash": "31f2aee4e71d21fbe5cf8b01ff0e069b9275f58929596ceb00d14d90e3e16cd6"
  },
  "kernelspec": {
   "display_name": "Python 3.8.2 64-bit",
   "name": "python3"
  },
  "language_info": {
   "codemirror_mode": {
    "name": "ipython",
    "version": 3
   },
   "file_extension": ".py",
   "mimetype": "text/x-python",
   "name": "python",
   "nbconvert_exporter": "python",
   "pygments_lexer": "ipython3",
   "version": "3.7.4"
  },
  "orig_nbformat": 4
 },
 "nbformat": 4,
 "nbformat_minor": 2
}
